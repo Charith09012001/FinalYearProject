{
 "cells": [
  {
   "cell_type": "code",
   "execution_count": 1,
   "id": "682a37c8",
   "metadata": {},
   "outputs": [],
   "source": [
    "from flask import Flask, render_template,url_for,request,redirect\n",
    "import pandas as pd\n",
    "import scipy.stats\n",
    "import numpy as np\n",
    "import os\n",
    "from os.path import join, dirname, realpath"
   ]
  },
  {
   "cell_type": "code",
   "execution_count": 2,
   "id": "bbd1bd08",
   "metadata": {},
   "outputs": [],
   "source": [
    "import numpy as np\n",
    "import pandas as pd\n",
    "import matplotlib.pyplot as plt\n",
    "import seaborn as sns\n",
    "from scipy import stats \n",
    "from sklearn.preprocessing import StandardScaler\n",
    "from sklearn.model_selection import train_test_split\n",
    "from sklearn.ensemble import RandomForestClassifier\n",
    "from sklearn.metrics import confusion_matrix,classification_report"
   ]
  },
  {
   "cell_type": "code",
   "execution_count": 3,
   "id": "b8c47c3b",
   "metadata": {},
   "outputs": [],
   "source": [
    "def dataProcessing(inp_arr):\n",
    "    \n",
    "    scaler=StandardScaler()\n",
    "    scaler.fit(inp_arr)\n",
    "    scaled_features=scaler.transform(inp_arr)\n",
    "    scaled_df=pd.DataFrame(scaled_features,columns=inp_arr.columns)\n",
    "    print(scaled_df)\n",
    "    return scaled_df\n"
   ]
  },
  {
   "cell_type": "code",
   "execution_count": 4,
   "id": "43ce9938",
   "metadata": {},
   "outputs": [],
   "source": [
    "def prediction(df):\n",
    "    #print(df.head)\n",
    "    predictions = dict()\n",
    "    predictions[\"rf\"] = rf.predict(df.iloc[:,:])\n",
    "    predictions[\"svm\"] = svm.predict(df.iloc[:,:])\n",
    "    predictions[\"dt\"] = dt.predict(df.iloc[:,:])\n",
    "    predictions[\"lr\"] = lr.predict(df.iloc[:,:])\n",
    "    predictions[\"knn\"] = knn.predict(df.iloc[:,:])\n",
    "    #predictions[\"ann\"] = ann.predict(df.iloc[:,:])\n",
    "    return predictions"
   ]
  },
  {
   "cell_type": "code",
   "execution_count": 5,
   "id": "e6f6f906",
   "metadata": {},
   "outputs": [],
   "source": [
    "import pickle"
   ]
  },
  {
   "cell_type": "code",
   "execution_count": 6,
   "id": "0094ea5e",
   "metadata": {
    "scrolled": true
   },
   "outputs": [],
   "source": [
    "with open('rf_optimal' , 'rb') as f:\n",
    "    rf = pickle.load(f)\n",
    "with open('svm_load1' , 'rb') as f:\n",
    "    svm = pickle.load(f)\n",
    "with open('d_tree' , 'rb') as f:\n",
    "    dt = pickle.load(f)\n",
    "with open('log_reg' , 'rb') as f:\n",
    "    lr = pickle.load(f)\n",
    "# with open('ann' , 'rb') as f:\n",
    "#     ann = pickle.load(f)\n",
    "with open('KNN_optimal' , 'rb') as f:\n",
    "    knn = pickle.load(f)"
   ]
  },
  {
   "cell_type": "code",
   "execution_count": 7,
   "id": "84f78c37",
   "metadata": {
    "scrolled": true
   },
   "outputs": [],
   "source": [
    "# for i in range(1,1000):\n",
    "    \n",
    "#     print(prediction(scaled_df.iloc[i:i+1,:-1]))"
   ]
  },
  {
   "cell_type": "code",
   "execution_count": 42,
   "id": "4a97c16a",
   "metadata": {
    "scrolled": true
   },
   "outputs": [
    {
     "name": "stdout",
     "output_type": "stream",
     "text": [
      " * Serving Flask app \"__name__\" (lazy loading)\n",
      " * Environment: production\n",
      "   WARNING: This is a development server. Do not use it in a production deployment.\n",
      "   Use a production WSGI server instead.\n",
      " * Debug mode: off\n"
     ]
    },
    {
     "name": "stderr",
     "output_type": "stream",
     "text": [
      " * Running on http://127.0.0.1:5000/ (Press CTRL+C to quit)\n",
      "127.0.0.1 - - [28/Apr/2022 01:21:57] \"\u001b[37mGET / HTTP/1.1\u001b[0m\" 200 -\n",
      "127.0.0.1 - - [28/Apr/2022 01:22:21] \"\u001b[37mGET /uploadcsv HTTP/1.1\u001b[0m\" 200 -\n"
     ]
    }
   ],
   "source": [
    "app = Flask(\"__name__\")\n",
    "\n",
    "# Upload folder\n",
    "UPLOAD_FOLDER = 'static/files'\n",
    "app.config['UPLOAD_FOLDER'] =  UPLOAD_FOLDER\n",
    "\n",
    "@app.route(\"/\",methods=['GET','POST'])\n",
    "def open():\n",
    "    return render_template(\"open.html\")\n",
    "\n",
    "def predict(k):\n",
    "    \n",
    "    fault_type = ['IR_7_1','IR_14_1','IR_21_1','BL_7_1','BL_14_1','BL_21_1','OR_7_1','OR_14_1','OR_21_1','NORMAL']\n",
    "    faults = ['INNER RACE FAULT of 0.007 in','INNER RACE FAULT of 0.014 in','INNER RACE FAULT of 0.021 in','BALL FAULT of 0.007 in','BALL FAULT of 0.014 in','BALL FAULT of 0.021 in','OUTER RACE FAULT of 0.007 in','OUTER RACE FAULT of 0.014 in','OUTER RACE FAULT of 0.021 in','NORMAL']\n",
    "    dictio = {}\n",
    "    for keys,values in k.items():\n",
    "        dictio[keys]=list(faults[values[i]] for i in range(len(values)))\n",
    "    return dictio\n",
    "    \n",
    "@app.route(\"/<algorithm>_<algo>_<acc>_<auc>\")\n",
    "def algorithms(algorithm,algo,acc,auc):\n",
    "    cr_link=\"/static/\"+algorithm+\"_classification_report.jpg\"\n",
    "    cm_link=\"/static/\"+algorithm+\"_confusion_matrix.jpg\"\n",
    "    return render_template(\"algorithm.html\",algorithm=algorithm,cr_link=cr_link,cm_link=cm_link,algo=algo,Accuracy=acc,AUC=auc)\n",
    "@app.route(\"/uploadcsv\",methods=['GET','POST'])\n",
    "def csv():\n",
    "    if request.method=='GET':\n",
    "        return render_template(\"index.html\")\n",
    "    if request.method == 'POST':\n",
    "        uploaded_file = request.files['filename']\n",
    "        if uploaded_file.filename != '':\n",
    "            file_path = os.path.join(app.config['UPLOAD_FOLDER'], uploaded_file.filename)\n",
    "          # set the file path\n",
    "            uploaded_file.save(file_path)\n",
    "            print(uploaded_file.filename)\n",
    "            df = pd.read_csv(file_path,header=None)\n",
    "            #data = np.array(df)\n",
    "            dat = dataProcessing(df.iloc[1:,:-3])\n",
    "            #print(randomf.predict(dat.iloc[:,:]))\n",
    "            print(prediction(dat))\n",
    "            k=prediction(dat)\n",
    "            #print(stats.mode(prediction(dat)))\n",
    "          # save the filewqe1\n",
    "            dictio=predict(prediction(dat))\n",
    "            length=len(dictio[\"rf\"])\n",
    "            \n",
    "            \n",
    "            return render_template(\"enter.html\",n=length,rf=dictio[\"rf\"],svm=dictio[\"svm\"],knn=dictio[\"knn\"],dt=dictio[\"dt\"],lr=dictio[\"lr\"])\n",
    "\n",
    "\n",
    "\n",
    "\n",
    "    \n",
    "    \n",
    "\n",
    "#\n",
    "if __name__ == \"__main__\":\n",
    "    app.run()\n",
    "    \n",
    "\n",
    "    "
   ]
  },
  {
   "cell_type": "code",
   "execution_count": null,
   "id": "ace21d3a",
   "metadata": {},
   "outputs": [],
   "source": []
  },
  {
   "cell_type": "code",
   "execution_count": null,
   "id": "ea512b60",
   "metadata": {},
   "outputs": [],
   "source": []
  }
 ],
 "metadata": {
  "kernelspec": {
   "display_name": "Python 3",
   "language": "python",
   "name": "python3"
  },
  "language_info": {
   "codemirror_mode": {
    "name": "ipython",
    "version": 3
   },
   "file_extension": ".py",
   "mimetype": "text/x-python",
   "name": "python",
   "nbconvert_exporter": "python",
   "pygments_lexer": "ipython3",
   "version": "3.8.8"
  }
 },
 "nbformat": 4,
 "nbformat_minor": 5
}
